{
 "cells": [
  {
   "cell_type": "code",
   "execution_count": null,
   "metadata": {},
   "outputs": [],
   "source": [
    "import numpy as np\n",
    "import pandas as pd\n",
    "import matplotlib.pyplot as plt\n",
    "import seaborn as sns\n",
    "import cv2\n",
    "import random\n",
    "from tensorflow.keras.preprocessing.image import ImageDataGenerator, load_img\n",
    "import os\n"
   ]
  },
  {
   "cell_type": "code",
   "execution_count": null,
   "metadata": {},
   "outputs": [],
   "source": [
    "traindir='./age_utk_v2'\n",
    "\n",
    "print('Training classes')\n",
    "print(os.listdir(traindir))\n"
   ]
  },
  {
   "cell_type": "code",
   "execution_count": null,
   "metadata": {},
   "outputs": [],
   "source": [
    "height = 200\n",
    "width = 200\n",
    "train_datagen =  ImageDataGenerator(rescale = 1/255.0,rotation_range=5,height_shift_range=0.5,shear_range=0.5,\n",
    "                              zoom_range=0.2,validation_split=0.2,horizontal_flip=True)\n",
    "\n",
    "train_data = train_datagen.flow_from_directory(directory = traindir,target_size=(height,width),\n",
    "                                               class_mode = \"categorical\",batch_size=32,subset=\"training\")\n",
    "\n",
    "val_datagen = ImageDataGenerator(rescale = 1/255.0,rotation_range=15,height_shift_range=0.5,shear_range=0.5,\n",
    "                              zoom_range=0.2,validation_split=0.2,horizontal_flip=True)\n",
    "\n",
    "val_data = val_datagen.flow_from_directory(directory = traindir,target_size=(height,width),\n",
    "                                               class_mode = \"categorical\",batch_size=32,subset=\"validation\")"
   ]
  },
  {
   "cell_type": "code",
   "execution_count": null,
   "metadata": {},
   "outputs": [],
   "source": [
    "from tensorflow.keras.models import Sequential\n",
    "from tensorflow.keras.optimizers import Adam\n",
    "from tensorflow.keras.layers import Flatten,Dense,Dropout,Conv2D,MaxPool2D,BatchNormalization\n",
    "from tensorflow.keras.callbacks import ModelCheckpoint,EarlyStopping"
   ]
  },
  {
   "cell_type": "markdown",
   "metadata": {},
   "source": [
    "ResNet Model"
   ]
  },
  {
   "cell_type": "code",
   "execution_count": null,
   "metadata": {},
   "outputs": [],
   "source": [
    "from tensorflow.keras.applications import ResNet50\n",
    "resnet = ResNet50(weights = \"imagenet\",include_top = False,input_shape=(height,width,3))\n",
    "\n",
    "for layer in resnet.layers:\n",
    "    layer.trainable = False\n",
    "\n",
    "model = Sequential()\n",
    "model.add(resnet)\n",
    "model.add(Dense(128,activation=\"relu\"))\n",
    "model.add(Dropout(0.2))\n",
    "\n",
    "model.add(Flatten())\n",
    "model.add(Dense(4,activation = \"softmax\"))\n",
    "\n",
    "model.summary()"
   ]
  },
  {
   "cell_type": "code",
   "execution_count": null,
   "metadata": {},
   "outputs": [],
   "source": [
    "model.compile(optimizer=Adam(lr=0.001),\n",
    "              loss=\"categorical_crossentropy\",\n",
    "              metrics=\"accuracy\")"
   ]
  },
  {
   "cell_type": "code",
   "execution_count": null,
   "metadata": {},
   "outputs": [],
   "source": [
    "checkpoint=ModelCheckpoint(\"age_prediction4_v5.h5\",\n",
    "                           monitor=\"val_accuracy\",\n",
    "                           save_best_only=True, \n",
    "                           verbose=1)\n",
    "\n",
    "#earlystop=EarlyStopping(monitor=\"val_accuracy\",\n",
    "                       #patience=5,\n",
    "                       #verbose=1)"
   ]
  },
  {
   "cell_type": "code",
   "execution_count": null,
   "metadata": {},
   "outputs": [],
   "source": [
    "batch_size=32\n",
    "\n",
    "train_step=len(train_data)/batch_size\n",
    "val_step=len(val_data)/batch_size\n",
    "\n",
    "result=model.fit(train_data,\n",
    "                 steps_per_epoch=train_step,\n",
    "                 epochs=10,\n",
    "                 validation_data=val_data,\n",
    "                 validation_steps=val_step,\n",
    "                 callbacks=[checkpoint],\n",
    "                 verbose=1)"
   ]
  },
  {
   "cell_type": "code",
   "execution_count": null,
   "metadata": {},
   "outputs": [],
   "source": [
    "import matplotlib.pyplot as plt\n",
    "\n",
    "# Training results of network\n",
    "\n",
    "\n",
    "\n",
    "plt.plot(result.history['accuracy'])\n",
    "plt.plot(result.history['val_accuracy'])\n",
    "\n",
    "\n",
    "# Set the parameters\n",
    "plt.title('Validation Accuracy')\n",
    "plt.ylabel('Accuracy')\n",
    "plt.xlabel('Epochs')\n",
    "plt.legend(['train', 'validation'], loc='upper right')\n",
    "\n",
    "# Display the plots\n",
    "plt.show()\n",
    "\n",
    "plt.plot(result.history['loss'])\n",
    "plt.plot(result.history['val_loss'])\n",
    "\n",
    "\n",
    "\n",
    "# Set the parameters\n",
    "plt.title('Deep learning model loss')\n",
    "plt.ylabel('Loss')\n",
    "plt.xlabel('Epochs')\n",
    "plt.legend(['train', 'validation'], loc='upper right')\n",
    "\n",
    "# Display the plots\n",
    "plt.show()"
   ]
  },
  {
   "cell_type": "markdown",
   "metadata": {},
   "source": [
    "Custom Network Model"
   ]
  },
  {
   "cell_type": "code",
   "execution_count": null,
   "metadata": {},
   "outputs": [],
   "source": [
    "from tensorflow.keras.models import Sequential\n",
    "from tensorflow.keras.optimizers import Adam\n",
    "from tensorflow.keras.layers import Flatten,Dense,Dropout,Conv2D,MaxPooling2D,BatchNormalization\n",
    "from tensorflow.keras.callbacks import ModelCheckpoint,EarlyStopping"
   ]
  },
  {
   "cell_type": "code",
   "execution_count": null,
   "metadata": {},
   "outputs": [],
   "source": [
    "from keras import regularizers\n",
    "input_shape=(200,200,3)\n",
    "\n",
    "model = Sequential()\n",
    "model.add(Conv2D(16,kernel_size=(3,3),activation='relu',padding='same',kernel_regularizer=regularizers.l2(0.001),input_shape=input_shape))\n",
    "model.add(MaxPooling2D(pool_size=(2,2),strides=(2,2)))\n",
    "model.add(BatchNormalization())\n",
    "\n",
    "\n",
    "model.add(Conv2D(32,kernel_size=(3,3),activation='relu',kernel_regularizer=regularizers.l2(0.001),padding='same'))\n",
    "model.add(MaxPooling2D(pool_size=(2,2),strides=(2,2)))\n",
    "model.add(BatchNormalization())\n",
    "\n",
    "model.add(Conv2D(64,kernel_size=(3,3),activation='relu',kernel_regularizer=regularizers.l2(0.001),padding='same'))\n",
    "model.add(MaxPooling2D(pool_size=(2,2),strides=(2,2)))\n",
    "model.add(BatchNormalization())\n",
    "\n",
    "\n",
    "model.add(Dense(128,activation=\"relu\"))\n",
    "model.add(Dropout(0.2))\n",
    "\n",
    "model.add(Flatten())\n",
    "model.add(Dense(5,activation = \"softmax\"))\n",
    "\n",
    "model.summary()"
   ]
  },
  {
   "cell_type": "code",
   "execution_count": null,
   "metadata": {},
   "outputs": [],
   "source": [
    "model.compile(optimizer=Adam(),\n",
    "              loss=\"categorical_crossentropy\",\n",
    "              metrics=\"accuracy\")"
   ]
  },
  {
   "cell_type": "code",
   "execution_count": null,
   "metadata": {},
   "outputs": [],
   "source": [
    "#checkpoint=ModelCheckpoint(\"ageprediction_utk.h5\",\n",
    "                           monitor=\"val_accuracy\",\n",
    "                           save_best_only=True, \n",
    "                           verbose=1)\n",
    "\n",
    "#earlystop=EarlyStopping(monitor=\"val_accuracy\",\n",
    "                       #patience=5,\n",
    "                       #verbose=1)"
   ]
  },
  {
   "cell_type": "code",
   "execution_count": null,
   "metadata": {},
   "outputs": [],
   "source": [
    "batch_size=32\n",
    "\n",
    "train_step=len(train_data)//batch_size\n",
    "val_step=len(val_data)//batch_size\n",
    "\n",
    "result=model.fit(train_data,\n",
    "                 steps_per_epoch=70,\n",
    "                 epochs=50,\n",
    "                 validation_data=val_data,\n",
    "                 validation_steps=70,\n",
    "                 #callbacks=[checkpoint],\n",
    "                 verbose=1)"
   ]
  },
  {
   "cell_type": "code",
   "execution_count": null,
   "metadata": {},
   "outputs": [],
   "source": [
    "#output of training\n",
    "\n",
    "plt.plot(result.history['val_accuracy'])\n",
    "plt.plot(result.history['accuracy'])\n",
    "\n",
    "#set the parameters\n",
    "plt.title('Validation Accuracy')\n",
    "plt.ylabel('Accuracy')\n",
    "plt.xlabel('Epochs')\n",
    "plt.legend(['train','validation'], loc='upper right')\n",
    "\n",
    "plt.show()\n",
    "\n",
    "#loss function\n",
    "\n",
    "plt.plot(result.history['val_loss'])\n",
    "plt.plot(result.history['accuracy'])\n",
    "\n",
    "plt.title('Validation Loss')\n",
    "plt.ylabel('Loss')\n",
    "plt.xlabel('Epochs')\n",
    "plt.legend(['train','validation'],loc='upper right')"
   ]
  },
  {
   "cell_type": "code",
   "execution_count": null,
   "metadata": {},
   "outputs": [],
   "source": []
  }
 ],
 "metadata": {
  "kernelspec": {
   "display_name": "Python 3",
   "language": "python",
   "name": "python3"
  },
  "language_info": {
   "codemirror_mode": {
    "name": "ipython",
    "version": 3
   },
   "file_extension": ".py",
   "mimetype": "text/x-python",
   "name": "python",
   "nbconvert_exporter": "python",
   "pygments_lexer": "ipython3",
   "version": "3.6.8"
  }
 },
 "nbformat": 4,
 "nbformat_minor": 5
}
