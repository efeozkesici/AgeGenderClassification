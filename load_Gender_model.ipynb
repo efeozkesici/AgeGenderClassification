{
 "cells": [
  {
   "cell_type": "code",
   "execution_count": null,
   "metadata": {},
   "outputs": [],
   "source": [
    "from tensorflow.keras.models import load_model\n",
    "import cv2\n",
    "import matplotlib.pyplot as plt\n",
    "import numpy as np\n",
    "\n",
    "\n",
    "model_path='./gender_classification_v6.h5'\n",
    "\n",
    "model=load_model(model_path)"
   ]
  },
  {
   "cell_type": "code",
   "execution_count": null,
   "metadata": {},
   "outputs": [],
   "source": [
    "model.summary()"
   ]
  },
  {
   "cell_type": "code",
   "execution_count": null,
   "metadata": {},
   "outputs": [],
   "source": [
    "classifier_path='C:/Users/Efe Ali/anaconda3/envs/redfloyd/Library/etc/haarcascades/haarcascade_frontalface_default.xml'"
   ]
  },
  {
   "cell_type": "code",
   "execution_count": null,
   "metadata": {},
   "outputs": [],
   "source": [
    "def checking_video(image):\n",
    "    \n",
    "    label=[\"male\", \"female\"]\n",
    "\n",
    "    \n",
    "    gray = cv2.cvtColor(image,cv2.COLOR_BGR2GRAY)\n",
    "    cascade = cv2.CascadeClassifier(classifier_path)\n",
    "    faces = cascade.detectMultiScale(gray,1.1,7)#1.1\n",
    "    \n",
    "    for x,y,w,h in faces:\n",
    "        face = image[y:y+h,x:x+w]\n",
    "        face = cv2.resize(face,(32,32))\n",
    "        img_scaled = face/255.0\n",
    "        reshape = np.reshape(img_scaled,(1,32,32,3))\n",
    "        img = np.vstack([reshape])\n",
    "        prediction=int(np.amax(model.predict(img))*100)\n",
    "        result=np.argmax(model.predict(img))\n",
    "        \n",
    "        #print(result)\n",
    "        #print(prediction)\n",
    "        #print(label[result])\n",
    "        \n",
    "        cv2.rectangle(image,(x-10,y),(x+w,y+h),(0,255,0),4)\n",
    "        #cv2.rectangle(image,(x-10,y-50),(x+w,y),(255,0,0),-1)\n",
    "        cv2.putText(image,label[result]+\":%\"+str(prediction),(x,y-10),cv2.FONT_HERSHEY_SIMPLEX,2,(0,255,0),2)\n",
    "        #image = cv2.cvtColor(image,cv2.COLOR_BGR2RGB)\n",
    "        cv2.imshow(\"frame\",image)\n",
    "\n",
    "\n",
    "plt.show()\n",
    "plt.show()\n",
    "cv2.destroyAllWindows()"
   ]
  },
  {
   "cell_type": "code",
   "execution_count": null,
   "metadata": {},
   "outputs": [],
   "source": [
    "cap = cv2.VideoCapture(0)\n",
    "import time\n",
    "\n",
    "while True:\n",
    "    start=time.time()\n",
    "    ret, frame = cap.read()\n",
    "    \n",
    "    if ret==True:\n",
    "        checking_video(frame)\n",
    "        #cv2.imshow(\"gender\",frame)\n",
    "        end=time.time()\n",
    "        print(f\"Runtime of the program is {end - start}\")\n",
    "        if cv2.waitKey(1) & 0xFF == ord(\"q\"): \n",
    "            cv2.destroyAllWindows()\n",
    "            cap.release()\n",
    "            break\n",
    "            "
   ]
  },
  {
   "cell_type": "markdown",
   "metadata": {},
   "source": [
    "Load Pretrained Gender Model"
   ]
  },
  {
   "cell_type": "code",
   "execution_count": null,
   "metadata": {},
   "outputs": [],
   "source": [
    "from tensorflow.keras.models import load_model\n",
    "import cv2\n",
    "import matplotlib.pyplot as plt\n",
    "import numpy as np\n",
    "\n",
    "\n",
    "model_path='./Gender.h5'\n",
    "\n",
    "pretrained_model=load_model(model_path)"
   ]
  },
  {
   "cell_type": "code",
   "execution_count": null,
   "metadata": {},
   "outputs": [],
   "source": [
    "pretrained_model.summary()"
   ]
  },
  {
   "cell_type": "code",
   "execution_count": null,
   "metadata": {},
   "outputs": [],
   "source": [
    "def checking(image):\n",
    "    label = {0:\"female\",1:\"male\"} \n",
    "    gray = cv2.cvtColor(image,cv2.COLOR_BGR2GRAY)\n",
    "    cascade = cv2.CascadeClassifier(classifier_path)\n",
    "    faces = cascade.detectMultiScale(gray,1.1,7)#1.1\n",
    "    \n",
    "    for x,y,w,h in faces:\n",
    "        face = image[y:y+h,x:x+w]\n",
    "        face = cv2.resize(face,(150,150))\n",
    "        img_scaled = face/255.0\n",
    "        reshape = np.reshape(img_scaled,(1,150,150,3))\n",
    "        img = np.vstack([reshape])\n",
    "        prediction=int(np.amax(model.predict(img))*100)\n",
    "        result=np.argmax(model.predict(img))\n",
    "        \n",
    "        if result < 0.5:\n",
    "            cv2.rectangle(image,(x-10,y),(x+w,y+h),(0,255,0),4)\n",
    "            cv2.rectangle(image,(x-10,y-50),(x+w,y),(255,0,0),-1)\n",
    "            cv2.putText(image,label[0]+\":%\"+str(prediction),(x,y-10),cv2.FONT_HERSHEY_SIMPLEX,2,(255,255,0),2)\n",
    "            #image = cv2.cvtColor(image,cv2.COLOR_BGR2RGB)\n",
    "            cv2.imshow(\"frame\",image)\n",
    "            \n",
    "        \n",
    "            \n",
    "        elif result > 0.5:\n",
    "            cv2.rectangle(image,(x-10,y),(x+w,y+h),(0,255,0),4)\n",
    "            cv2.rectangle(image,(x-10,y-50),(x+w,y),(255,0,0),-1)\n",
    "            cv2.putText(image,label[1]+\":%\"+str(prediction),(x,y-10),cv2.FONT_HERSHEY_SIMPLEX,2,(255,255,0),2)\n",
    "            #image = cv2.cvtColor(image,cv2.COLOR_BGR2RGB)\n",
    "            cv2.imshow(\"frame\",image)\n",
    "plt.show()\n",
    "cv2.destroyAllWindows()"
   ]
  },
  {
   "cell_type": "code",
   "execution_count": null,
   "metadata": {},
   "outputs": [],
   "source": [
    "cap = cv2.VideoCapture(0)\n",
    "import time\n",
    "\n",
    "while True:\n",
    "    start=time.time()\n",
    "    ret, frame = cap.read()\n",
    "    \n",
    "    if ret==True:\n",
    "        checking(frame)\n",
    "        #cv2.imshow(\"gender\",frame)\n",
    "        end=time.time()\n",
    "        print(f\"Runtime of the program is {end - start}\")\n",
    "        if cv2.waitKey(1) & 0xFF == ord(\"q\"): \n",
    "            cv2.destroyAllWindows()\n",
    "            cap.release()\n",
    "            break\n",
    "            \n"
   ]
  },
  {
   "cell_type": "code",
   "execution_count": null,
   "metadata": {},
   "outputs": [],
   "source": [
    "import tensorflow\n",
    "\n",
    "tensorflow.__version__"
   ]
  },
  {
   "cell_type": "code",
   "execution_count": null,
   "metadata": {},
   "outputs": [],
   "source": []
  }
 ],
 "metadata": {
  "kernelspec": {
   "display_name": "Python 3",
   "language": "python",
   "name": "python3"
  },
  "language_info": {
   "codemirror_mode": {
    "name": "ipython",
    "version": 3
   },
   "file_extension": ".py",
   "mimetype": "text/x-python",
   "name": "python",
   "nbconvert_exporter": "python",
   "pygments_lexer": "ipython3",
   "version": "3.6.8"
  }
 },
 "nbformat": 4,
 "nbformat_minor": 5
}
